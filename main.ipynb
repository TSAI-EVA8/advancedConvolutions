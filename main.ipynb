{
 "cells": [
  {
   "cell_type": "code",
   "execution_count": 1,
   "id": "0250bff0",
   "metadata": {},
   "outputs": [
    {
     "name": "stdout",
     "output_type": "stream",
     "text": [
      "Requirement already satisfied: torchsummary in /home/gauravp/anaconda3/envs/transformerlatest/lib/python3.7/site-packages (1.5.1)\n",
      "Collecting albumentations\n",
      "  Downloading albumentations-1.3.0-py3-none-any.whl (123 kB)\n",
      "\u001b[K     |████████████████████████████████| 123 kB 32.7 MB/s eta 0:00:01\n",
      "\u001b[?25hRequirement already satisfied: scikit-image>=0.16.1 in /home/gauravp/anaconda3/envs/transformerlatest/lib/python3.7/site-packages (from albumentations) (0.19.3)\n",
      "Requirement already satisfied: PyYAML in /home/gauravp/anaconda3/envs/transformerlatest/lib/python3.7/site-packages (from albumentations) (6.0)\n",
      "Requirement already satisfied: scipy in /home/gauravp/anaconda3/envs/transformerlatest/lib/python3.7/site-packages (from albumentations) (1.7.3)\n",
      "Collecting opencv-python-headless>=4.1.1\n",
      "  Downloading opencv_python_headless-4.7.0.68-cp37-abi3-manylinux_2_17_x86_64.manylinux2014_x86_64.whl (49.2 MB)\n",
      "\u001b[K     |████████████████████████████████| 49.2 MB 86.8 MB/s eta 0:00:01\n",
      "\u001b[?25hRequirement already satisfied: numpy>=1.11.1 in /home/gauravp/anaconda3/envs/transformerlatest/lib/python3.7/site-packages (from albumentations) (1.21.2)\n",
      "Collecting qudida>=0.0.4\n",
      "  Downloading qudida-0.0.4-py3-none-any.whl (3.5 kB)\n",
      "Requirement already satisfied: typing-extensions in /home/gauravp/anaconda3/envs/transformerlatest/lib/python3.7/site-packages (from qudida>=0.0.4->albumentations) (3.10.0.2)\n",
      "Requirement already satisfied: scikit-learn>=0.19.1 in /home/gauravp/anaconda3/envs/transformerlatest/lib/python3.7/site-packages (from qudida>=0.0.4->albumentations) (1.0.2)\n",
      "Requirement already satisfied: tifffile>=2019.7.26 in /home/gauravp/anaconda3/envs/transformerlatest/lib/python3.7/site-packages (from scikit-image>=0.16.1->albumentations) (2021.11.2)\n",
      "Requirement already satisfied: PyWavelets>=1.1.1 in /home/gauravp/anaconda3/envs/transformerlatest/lib/python3.7/site-packages (from scikit-image>=0.16.1->albumentations) (1.3.0)\n",
      "Requirement already satisfied: pillow!=7.1.0,!=7.1.1,!=8.3.0,>=6.1.0 in /home/gauravp/anaconda3/envs/transformerlatest/lib/python3.7/site-packages (from scikit-image>=0.16.1->albumentations) (9.0.1)\n",
      "Requirement already satisfied: imageio>=2.4.1 in /home/gauravp/anaconda3/envs/transformerlatest/lib/python3.7/site-packages (from scikit-image>=0.16.1->albumentations) (2.22.4)\n",
      "Requirement already satisfied: packaging>=20.0 in /home/gauravp/anaconda3/envs/transformerlatest/lib/python3.7/site-packages (from scikit-image>=0.16.1->albumentations) (21.3)\n",
      "Requirement already satisfied: networkx>=2.2 in /home/gauravp/anaconda3/envs/transformerlatest/lib/python3.7/site-packages (from scikit-image>=0.16.1->albumentations) (2.6.3)\n",
      "Requirement already satisfied: pyparsing!=3.0.5,>=2.0.2 in /home/gauravp/anaconda3/envs/transformerlatest/lib/python3.7/site-packages (from packaging>=20.0->scikit-image>=0.16.1->albumentations) (3.0.4)\n",
      "Requirement already satisfied: threadpoolctl>=2.0.0 in /home/gauravp/anaconda3/envs/transformerlatest/lib/python3.7/site-packages (from scikit-learn>=0.19.1->qudida>=0.0.4->albumentations) (3.1.0)\n",
      "Requirement already satisfied: joblib>=0.11 in /home/gauravp/anaconda3/envs/transformerlatest/lib/python3.7/site-packages (from scikit-learn>=0.19.1->qudida>=0.0.4->albumentations) (1.1.0)\n",
      "Installing collected packages: opencv-python-headless, qudida, albumentations\n",
      "Successfully installed albumentations-1.3.0 opencv-python-headless-4.7.0.68 qudida-0.0.4\n"
     ]
    }
   ],
   "source": [
    "!pip install torchsummary\n",
    "!pip install albumentations\n",
    "from torchsummary import summary"
   ]
  },
  {
   "cell_type": "code",
   "execution_count": 1,
   "id": "f314e20e",
   "metadata": {},
   "outputs": [],
   "source": [
    "import torch\n",
    "import torchvision\n",
    "import torchvision.transforms as transforms\n",
    "import matplotlib.pyplot as plt\n",
    "import numpy as np\n",
    "import albumentations as A"
   ]
  },
  {
   "cell_type": "code",
   "execution_count": null,
   "id": "21b0d597",
   "metadata": {},
   "outputs": [],
   "source": [
    "dat"
   ]
  },
  {
   "cell_type": "code",
   "execution_count": null,
   "id": "cac58fa1",
   "metadata": {},
   "outputs": [],
   "source": [
    "#cifar_dataset_data = data.cifar10_dataset(batch_size=cf.Args.batch_size,cuda=1,num_workers=cf.Args.num_workers,)\n",
    "# Download data\n",
    "cifar_dataset = dt.download_cifar10()\n",
    "classes = data.cifar10_classes()\n",
    "sample_data, sample_targets = cifar_dataset.data, cifar_dataset.targets\n",
    "\n",
    "\n",
    "# Set number of images to display\n",
    "num_images = 4\n",
    "\n",
    "# Display images with labels\n",
    "fig, axs = plt.subplots(1, 4, figsize=(8, 8))\n",
    "fig.tight_layout()\n",
    "\n",
    "for i in range(num_images):\n",
    "    axs[i].axis('off')\n",
    "    axs[i].set_title(f'Label: {classes[sample_targets[i]]}')\n",
    "    axs[i].imshow(sample_data[i])"
   ]
  },
  {
   "cell_type": "code",
   "execution_count": null,
   "id": "9b7e7c68",
   "metadata": {},
   "outputs": [],
   "source": []
  }
 ],
 "metadata": {
  "kernelspec": {
   "display_name": "Python 3 (ipykernel)",
   "language": "python",
   "name": "python3"
  },
  "language_info": {
   "codemirror_mode": {
    "name": "ipython",
    "version": 3
   },
   "file_extension": ".py",
   "mimetype": "text/x-python",
   "name": "python",
   "nbconvert_exporter": "python",
   "pygments_lexer": "ipython3",
   "version": "3.7.11"
  }
 },
 "nbformat": 4,
 "nbformat_minor": 5
}
